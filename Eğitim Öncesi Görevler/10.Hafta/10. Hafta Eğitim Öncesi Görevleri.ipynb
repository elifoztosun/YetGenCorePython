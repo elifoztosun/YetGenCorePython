{
 "cells": [
  {
   "attachments": {},
   "cell_type": "markdown",
   "metadata": {},
   "source": [
    "# Problem 1"
   ]
  },
  {
   "cell_type": "code",
   "execution_count": 9,
   "metadata": {},
   "outputs": [
    {
     "name": "stdout",
     "output_type": "stream",
     "text": [
      "[4 0 6 4 3]\n",
      "5\n",
      "[[4]\n",
      " [0]\n",
      " [6]\n",
      " [4]\n",
      " [3]]\n",
      "(5,)\n"
     ]
    }
   ],
   "source": [
    "# 1 - numpy kütüphanesini import edin\n",
    "import numpy as np\n",
    "# 2 - 0 ile 10 arasında 5 sayıdan oluşan matris üretin\n",
    "a= np.random.randint(0,10,5)\n",
    "print(a)\n",
    "# 3 - matris'in boyutunu öğrenin\n",
    "print(a.size)\n",
    "# 4 - matris'i yeniden boyutlandırın\n",
    "print(a.reshape(5,1))\n",
    "# 5 - matris'in boyut sayısını öğrenin\n",
    "print(a.ndim)"
   ]
  },
  {
   "attachments": {},
   "cell_type": "markdown",
   "metadata": {},
   "source": [
    "# Problem 2"
   ]
  },
  {
   "cell_type": "code",
   "execution_count": 3,
   "metadata": {},
   "outputs": [
    {
     "name": "stdout",
     "output_type": "stream",
     "text": [
      "[1 3 5 7 9]\n",
      "[[1]\n",
      " [3]\n",
      " [5]\n",
      " [7]\n",
      " [9]]\n",
      "[1 3 5 7 9]\n"
     ]
    }
   ],
   "source": [
    "import numpy as np\n",
    "# 1 - 0 ile 10 arasında bulunan tek sayılardan oluşan matris üretin\n",
    "yeni= np.arange(1,10,2)\n",
    "print(yeni)\n",
    "# 2 - Oluşturduğunuz matrisi parçalayın\n",
    "parca= yeni.reshape(5,1)\n",
    "print(parca)\n",
    "# 3 - Parçalanmış matrisleri birleştirin\n",
    "butun= np.concatenate(parca)\n",
    "print(butun)"
   ]
  },
  {
   "attachments": {},
   "cell_type": "markdown",
   "metadata": {},
   "source": [
    "# Problem 3"
   ]
  },
  {
   "cell_type": "code",
   "execution_count": 10,
   "metadata": {},
   "outputs": [
    {
     "name": "stdout",
     "output_type": "stream",
     "text": [
      "[87 13  9 83 43 21 91 77 73 15]\n"
     ]
    }
   ],
   "source": [
    "# 1 - 5 ile 100 arasında ikişer ikişer atlayarak rastgele 10 sayıdan oluşan matris üretin\n",
    "ara= np.arange(5,100,2) ###########3 bunasıl ya :,D\n",
    "mat= \n",
    "# 2 - matris'in özelliklerini inceleyin\n",
    "print(\n",
    "    mat.shape()\n",
    "    mat.ndim()\n",
    "    mat.size()\n",
    ")"
   ]
  }
 ],
 "metadata": {
  "kernelspec": {
   "display_name": "Python 3",
   "language": "python",
   "name": "python3"
  },
  "language_info": {
   "codemirror_mode": {
    "name": "ipython",
    "version": 3
   },
   "file_extension": ".py",
   "mimetype": "text/x-python",
   "name": "python",
   "nbconvert_exporter": "python",
   "pygments_lexer": "ipython3",
   "version": "3.11.7"
  },
  "orig_nbformat": 4,
  "vscode": {
   "interpreter": {
    "hash": "5026d2d6e7aaaaba093def813beadff083d8733e4a511af01735cbabd156995d"
   }
  }
 },
 "nbformat": 4,
 "nbformat_minor": 2
}
