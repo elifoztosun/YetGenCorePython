{
 "cells": [
  {
   "attachments": {},
   "cell_type": "markdown",
   "metadata": {},
   "source": [
    "# Problem 1\n",
    "\n",
    "Şimdi beraber kullanıcılardan aldığımız verileri işleyerek, onlara hem çıktı verecek, hem de aldığımız ve hesapladığımız verileri ileride kullanabilmek adına kaydedeceğiz.\n",
    "\n",
    "\n",
    " **Bu bir veri giriş platformu olacak**\n",
    "\n",
    "\n",
    " * kullanıcıya kaç giriş yapacağını soracağız\n",
    "* kullanıcıdan isim-soyisim, yaş, boy, kilo bilgilerini alarak VKİ hesaplayacağız\n",
    "* ardından bunları sınıflara göre kaydedeceğiz bir dosyaya kaydedeceğiz\n",
    "\n",
    "\n",
    "Sınıflar ise şu şekilde: \n",
    "* 18, 5 kg/m.'nin altında olanlar: Zayıf\n",
    "* 18.5 – 24, 9 kg/m. arasında olanlar: Normal kilolu\n",
    "* 25 – 29, 9 kg/m. arasında olanlar: Fazla kilolu\n",
    "* 30 – 39, 9 kg/m. arasında olanlar: Obez\n",
    "* 40 kg/m.'nin üzerinde olanlar: İleri derecede obez (morbid obez), olarak görülür."
   ]
  },
  {
   "cell_type": "code",
   "execution_count": 19,
   "metadata": {},
   "outputs": [
    {
     "name": "stdout",
     "output_type": "stream",
     "text": [
      "Veriler dosyaya kaydedildi.\n"
     ]
    }
   ],
   "source": [
    "'''\n",
    "SORUNLAR:\n",
    "1) Her seferinde \"normaller\" yazıyor başa \n",
    "2) hangi modda açacağımdan emin olamadım???\n",
    "bu kadar:D\n",
    "'''\n",
    "class Kisi:\n",
    "    def __init__(self, isim_soyisim, yas, boy, kilo):\n",
    "        self.isim_soyisim = isim_soyisim\n",
    "        self.yas = yas\n",
    "        self.boy = boy\n",
    "        self.kilo = kilo\n",
    "        self.vki = self.vki_hesapla()\n",
    "        self.durum = self.durum_belirle()\n",
    "\n",
    "    def vki_hesapla(self):\n",
    "        return self.kilo / (self.boy / 100) ** 2\n",
    "\n",
    "    def durum_belirle(self):\n",
    "        if self.vki < 18.5:\n",
    "            return \"Zayıf\"\n",
    "        elif 18.5 <= self.vki < 25:\n",
    "            return \"Normal kilolu\"\n",
    "        elif 25 <= self.vki < 30:\n",
    "            return \"Fazla kilolu\"\n",
    "        elif 30 <= self.vki < 40:\n",
    "            return \"Obez\"\n",
    "        else:\n",
    "            return \"İleri derecede obez (morbid obez)\"\n",
    "zayif= []\n",
    "normal=[]\n",
    "fazlaKilolu=[]\n",
    "obez=[]\n",
    "ileriObez=[]\n",
    "def veri_girisi():\n",
    "    kisi_sayisi = int(input(\"Kaç giriş yapacaksınız? \"))\n",
    "    global zayif\n",
    "    global normal\n",
    "    global fazlaKilolu\n",
    "    global obez\n",
    "    global ileriObez\n",
    "\n",
    "    for _ in range(kisi_sayisi):\n",
    "        isim_soyisim = input(\"İsim Soyisim: \")\n",
    "        yas = int(input(\"Yaş: \"))\n",
    "        boy = float(input(\"Boy (cm): \"))\n",
    "        kilo = float(input(\"Kilo (kg): \"))\n",
    "        \n",
    "        kisi = Kisi(isim_soyisim, yas, boy, kilo)\n",
    "        if kisi.durum==\"Zayıf\":\n",
    "            zayif.append(kisi)\n",
    "        elif kisi.durum==\"Normal kilolu\":\n",
    "            normal.append(kisi)\n",
    "        elif kisi.durum==\"Fazla Kilolu\":\n",
    "            fazlaKilolu.append(kisi)\n",
    "        elif kisi.durum==\"Obez\":\n",
    "            obez.append(kisi)\n",
    "        else:\n",
    "            ileriObez.append(kisi)\n",
    "            \n",
    "    \n",
    "\n",
    "def verileri_dosyaya_kaydet():\n",
    "    with open(\"vki_liste.txt\", \"w\", encoding=\"utf-8\") as dosya:\n",
    "        for kisi in zayif:\n",
    "            dosya.write(f\"Zayıflar:\\n İsim Soyisim: {kisi.isim_soyisim}, Yaş: {kisi.yas}, Boy: {kisi.boy} cm, Kilo: {kisi.kilo} kg, VKİ: {kisi.vki:.2f}, Durum: {kisi.durum}\\n\")\n",
    "        for kisi in normal :\n",
    "            dosya.write(f\"Normaller:\\n İsim Soyisim: {kisi.isim_soyisim}, Yaş: {kisi.yas}, Boy: {kisi.boy} cm, Kilo: {kisi.kilo} kg, VKİ: {kisi.vki:.2f}, Durum: {kisi.durum}\\n\")\n",
    "        for kisi in fazlaKilolu:\n",
    "            dosya.write(f\"Fazla Kilolular:\\n İsim Soyisim: {kisi.isim_soyisim}, Yaş: {kisi.yas}, Boy: {kisi.boy} cm, Kilo: {kisi.kilo} kg, VKİ: {kisi.vki:.2f}, Durum: {kisi.durum}\\n\")\n",
    "        for kisi in obez:\n",
    "            dosya.write(f\"Obezler:\\n İsim Soyisim: {kisi.isim_soyisim}, Yaş: {kisi.yas}, Boy: {kisi.boy} cm, Kilo: {kisi.kilo} kg, VKİ: {kisi.vki:.2f}, Durum: {kisi.durum}\\n\")\n",
    "        for kisi in ileriObez:\n",
    "            dosya.write(f\"İleri Obezler:\\n İsim Soyisim: {kisi.isim_soyisim}, Yaş: {kisi.yas}, Boy: {kisi.boy} cm, Kilo: {kisi.kilo} kg, VKİ: {kisi.vki:.2f}, Durum: {kisi.durum}\\n\")\n",
    "def main():\n",
    "    veri_girisi()\n",
    "    verileri_dosyaya_kaydet()\n",
    "    print(\"Veriler dosyaya kaydedildi.\")\n",
    "\n",
    "if __name__ == \"__main__\":\n",
    "    main()"
   ]
  },
  {
   "attachments": {},
   "cell_type": "markdown",
   "metadata": {},
   "source": [
    "# Problem 2\n",
    "**YetBar - Smoothie Bank**\n",
    "---\n",
    "YetBar spor salonunun girişinde bulunan, insansız bir sağlıklı içecek otomatıdır. Kullanıcı çeşitli girdiler smoothie içeceğine koyacağı ürünleri belirleyebilir, fiyat hesaplaması yaptırabilir ya da sadece menüyü görüntüleyebilir.\n",
    "\n",
    "**Projenin Amacı:**\n",
    "\n",
    "*   Birbirini etkileyen ve bir kod içerisinde birden fazla defa başvurulacak fonksiyonların oluşturulup, \"fonksiyonel\" proglamlamak.\n",
    "*   Büyük programları yazarken, yazılımcı olarak yapabileceğimiz hatalardan kaçınmak için kontrol yöntemleri geliştirmek.\n",
    "*   Kullanıcı inputlarını ve yaptığımız hesapları, raporlamak/loglamak amacıyla kaydetmek.\n",
    "\n",
    "**Programdan Beklenen Çıktılar**\n",
    "* Program kullanıcıya temelde 2 farklı işlem yapma imkanı sağlar.\n",
    "> 1. Menüyü görüntüleme\n",
    "> 3. Satın alma\n",
    "* Satın alınan her içecek tarih, fiyat bilgisi ile kaydedilmeli ve her zaman ulaşılabilir olmalıdır.\n",
    "\n",
    "\n"
   ]
  },
  {
   "cell_type": "code",
   "execution_count": null,
   "metadata": {},
   "outputs": [],
   "source": [
    "# 2.Problemin Çözümünü Buraya Yazınız"
   ]
  }
 ],
 "metadata": {
  "kernelspec": {
   "display_name": "Python 3",
   "language": "python",
   "name": "python3"
  },
  "language_info": {
   "codemirror_mode": {
    "name": "ipython",
    "version": 3
   },
   "file_extension": ".py",
   "mimetype": "text/x-python",
   "name": "python",
   "nbconvert_exporter": "python",
   "pygments_lexer": "ipython3",
   "version": "3.11.7"
  },
  "orig_nbformat": 4,
  "vscode": {
   "interpreter": {
    "hash": "5026d2d6e7aaaaba093def813beadff083d8733e4a511af01735cbabd156995d"
   }
  }
 },
 "nbformat": 4,
 "nbformat_minor": 2
}
